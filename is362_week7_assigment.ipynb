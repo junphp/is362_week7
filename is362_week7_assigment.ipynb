{
 "cells": [
  {
   "cell_type": "markdown",
   "metadata": {},
   "source": [
    "# IS 362 – Week 7 Assignment "
   ]
  },
  {
   "cell_type": "code",
   "execution_count": 70,
   "metadata": {
    "collapsed": true
   },
   "outputs": [],
   "source": [
    "import pandas as pd\n",
    "import numpy as np"
   ]
  },
  {
   "cell_type": "markdown",
   "metadata": {},
   "source": [
    "### 1. Load the ratings by user information that you collected into a pandas dataframe. "
   ]
  },
  {
   "cell_type": "code",
   "execution_count": 71,
   "metadata": {},
   "outputs": [
    {
     "data": {
      "text/html": [
       "<div>\n",
       "<style>\n",
       "    .dataframe thead tr:only-child th {\n",
       "        text-align: right;\n",
       "    }\n",
       "\n",
       "    .dataframe thead th {\n",
       "        text-align: left;\n",
       "    }\n",
       "\n",
       "    .dataframe tbody tr th {\n",
       "        vertical-align: top;\n",
       "    }\n",
       "</style>\n",
       "<table border=\"1\" class=\"dataframe\">\n",
       "  <thead>\n",
       "    <tr style=\"text-align: right;\">\n",
       "      <th></th>\n",
       "      <th>American Made</th>\n",
       "      <th>Kingsman: The Golden Circle</th>\n",
       "      <th>The LEGO Ninjago Movie</th>\n",
       "      <th>Flatliners</th>\n",
       "      <th>Blade Runner 2049</th>\n",
       "    </tr>\n",
       "  </thead>\n",
       "  <tbody>\n",
       "    <tr>\n",
       "      <th>Andrew</th>\n",
       "      <td>4.0</td>\n",
       "      <td>5.0</td>\n",
       "      <td>NaN</td>\n",
       "      <td>2</td>\n",
       "      <td>3.0</td>\n",
       "    </tr>\n",
       "    <tr>\n",
       "      <th>Brian</th>\n",
       "      <td>2.0</td>\n",
       "      <td>NaN</td>\n",
       "      <td>4.0</td>\n",
       "      <td>3</td>\n",
       "      <td>3.0</td>\n",
       "    </tr>\n",
       "    <tr>\n",
       "      <th>Christian</th>\n",
       "      <td>5.0</td>\n",
       "      <td>2.0</td>\n",
       "      <td>2.0</td>\n",
       "      <td>4</td>\n",
       "      <td>NaN</td>\n",
       "    </tr>\n",
       "    <tr>\n",
       "      <th>David</th>\n",
       "      <td>NaN</td>\n",
       "      <td>4.0</td>\n",
       "      <td>4.0</td>\n",
       "      <td>3</td>\n",
       "      <td>5.0</td>\n",
       "    </tr>\n",
       "    <tr>\n",
       "      <th>Edwin</th>\n",
       "      <td>3.0</td>\n",
       "      <td>3.0</td>\n",
       "      <td>5.0</td>\n",
       "      <td>1</td>\n",
       "      <td>2.0</td>\n",
       "    </tr>\n",
       "  </tbody>\n",
       "</table>\n",
       "</div>"
      ],
      "text/plain": [
       "           American Made  Kingsman: The Golden Circle  The LEGO Ninjago Movie  \\\n",
       "Andrew               4.0                          5.0                     NaN   \n",
       "Brian                2.0                          NaN                     4.0   \n",
       "Christian            5.0                          2.0                     2.0   \n",
       "David                NaN                          4.0                     4.0   \n",
       "Edwin                3.0                          3.0                     5.0   \n",
       "\n",
       "           Flatliners  Blade Runner 2049  \n",
       "Andrew              2                3.0  \n",
       "Brian               3                3.0  \n",
       "Christian           4                NaN  \n",
       "David               3                5.0  \n",
       "Edwin               1                2.0  "
      ]
     },
     "execution_count": 71,
     "metadata": {},
     "output_type": "execute_result"
    }
   ],
   "source": [
    "movie_rate = pd.read_csv(\"https://raw.githubusercontent.com/junphp/is362_week7/master/popular_movies.csv\",index_col=0)\n",
    "movie_rate"
   ]
  },
  {
   "cell_type": "markdown",
   "metadata": {},
   "source": [
    "### 2. Show the average ratings for each user and each movie. "
   ]
  },
  {
   "cell_type": "markdown",
   "metadata": {},
   "source": [
    "#### Each user"
   ]
  },
  {
   "cell_type": "code",
   "execution_count": 72,
   "metadata": {},
   "outputs": [
    {
     "data": {
      "text/plain": [
       "Andrew       3.50\n",
       "Brian        3.00\n",
       "Christian    3.25\n",
       "David        4.00\n",
       "Edwin        2.80\n",
       "dtype: float64"
      ]
     },
     "execution_count": 72,
     "metadata": {},
     "output_type": "execute_result"
    }
   ],
   "source": [
    "user_average = movie_rate \n",
    "user_average.mean(axis=1)"
   ]
  },
  {
   "cell_type": "markdown",
   "metadata": {},
   "source": [
    "#### Each movie"
   ]
  },
  {
   "cell_type": "code",
   "execution_count": 45,
   "metadata": {},
   "outputs": [
    {
     "data": {
      "text/plain": [
       "American Made                  3.50\n",
       "Kingsman: The Golden Circle    3.50\n",
       "The LEGO Ninjago Movie         3.75\n",
       "Flatliners                     2.60\n",
       "Blade Runner 2049              3.25\n",
       "dtype: float64"
      ]
     },
     "execution_count": 45,
     "metadata": {},
     "output_type": "execute_result"
    }
   ],
   "source": [
    "movie_average = movie_rate\n",
    "movie_average.mean(axis=0)"
   ]
  },
  {
   "cell_type": "markdown",
   "metadata": {},
   "source": [
    "### 3.Create a new pandas dataframe, with normalized ratings for each user.  Again, show the average ratings for each user and each movie. "
   ]
  },
  {
   "cell_type": "markdown",
   "metadata": {},
   "source": [
    "#### Each user"
   ]
  },
  {
   "cell_type": "code",
   "execution_count": 77,
   "metadata": {},
   "outputs": [
    {
     "data": {
      "text/plain": [
       "Andrew       0.583333\n",
       "Brian        0.416667\n",
       "Christian    0.500000\n",
       "David        0.750000\n",
       "Edwin        0.333333\n",
       "dtype: float64"
      ]
     },
     "execution_count": 77,
     "metadata": {},
     "output_type": "execute_result"
    }
   ],
   "source": [
    "normalization_user_average = (movie_rate - movie_rate.min())/ (movie_rate.max()-movie_rate.min())\n",
    "normalization_user_average.mean(axis=1)"
   ]
  },
  {
   "cell_type": "markdown",
   "metadata": {},
   "source": [
    "#### Each movie"
   ]
  },
  {
   "cell_type": "code",
   "execution_count": 85,
   "metadata": {},
   "outputs": [
    {
     "data": {
      "text/plain": [
       "American Made                  0.500000\n",
       "Kingsman: The Golden Circle    0.500000\n",
       "The LEGO Ninjago Movie         0.583333\n",
       "Flatliners                     0.533333\n",
       "Blade Runner 2049              0.416667\n",
       "dtype: float64"
      ]
     },
     "execution_count": 85,
     "metadata": {},
     "output_type": "execute_result"
    }
   ],
   "source": [
    "normalization_movie_average = (movie_rate - movie_rate.min())/ (movie_rate.max()-movie_rate.min())\n",
    "normalization_movie_average.mean(axis=0)"
   ]
  },
  {
   "cell_type": "markdown",
   "metadata": {},
   "source": [
    "### 4. Provide a text-based conclusion: explain what might be advantages and disadvantages of using normalized ratings instead of the actual ratings. "
   ]
  },
  {
   "cell_type": "markdown",
   "metadata": {},
   "source": [
    "There is a hard part to compare with other values in actual ratings. If the range of values is wider, it will become more difficult. A normalized rating can be compared with other values through the position of the current value between the maximum and minimum values by expressing the wide data range as 0 and 1."
   ]
  },
  {
   "cell_type": "markdown",
   "metadata": {},
   "source": [
    "### 5. Create another new pandas dataframe, with standardized ratings for each user.  Once again, show the average ratings for each user and each movie. "
   ]
  },
  {
   "cell_type": "markdown",
   "metadata": {},
   "source": [
    "#### Each movie"
   ]
  },
  {
   "cell_type": "code",
   "execution_count": 92,
   "metadata": {},
   "outputs": [
    {
     "data": {
      "text/plain": [
       "American Made                 -1.387779e-17\n",
       "Kingsman: The Golden Circle    0.000000e+00\n",
       "The LEGO Ninjago Movie         5.551115e-17\n",
       "Flatliners                    -4.440892e-17\n",
       "Blade Runner 2049              0.000000e+00\n",
       "dtype: float64"
      ]
     },
     "execution_count": 92,
     "metadata": {},
     "output_type": "execute_result"
    }
   ],
   "source": [
    "movie_standardization =np.std(movie_rate)\n",
    "movie_normalization = np.mean(movie_rate)\n",
    "standardized_movie_rate=(movie_rate - movie_normalization)/movie_standardization\n",
    "standardized_movie_rate.mean()"
   ]
  },
  {
   "cell_type": "markdown",
   "metadata": {},
   "source": [
    "#### Each user"
   ]
  },
  {
   "cell_type": "code",
   "execution_count": 93,
   "metadata": {},
   "outputs": [
    {
     "data": {
      "text/plain": [
       "Andrew       0.242773\n",
       "Brian       -0.237352\n",
       "Christian   -0.058274\n",
       "David        0.668693\n",
       "Edwin       -0.492671\n",
       "dtype: float64"
      ]
     },
     "execution_count": 93,
     "metadata": {},
     "output_type": "execute_result"
    }
   ],
   "source": [
    "standardized_movie_rate.mean(axis=1)"
   ]
  },
  {
   "cell_type": "code",
   "execution_count": null,
   "metadata": {
    "collapsed": true
   },
   "outputs": [],
   "source": []
  }
 ],
 "metadata": {
  "kernelspec": {
   "display_name": "Python 3",
   "language": "python",
   "name": "python3"
  },
  "language_info": {
   "codemirror_mode": {
    "name": "ipython",
    "version": 3
   },
   "file_extension": ".py",
   "mimetype": "text/x-python",
   "name": "python",
   "nbconvert_exporter": "python",
   "pygments_lexer": "ipython3",
   "version": "3.5.4"
  }
 },
 "nbformat": 4,
 "nbformat_minor": 2
}
